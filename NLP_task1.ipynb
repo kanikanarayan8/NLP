{
 "cells": [
  {
   "cell_type": "code",
   "execution_count": 1,
   "metadata": {},
   "outputs": [
    {
     "name": "stdout",
     "output_type": "stream",
     "text": [
      "Shakespeare gave the world the best of theatrics\n"
     ]
    }
   ],
   "source": [
    "print(\"Shakespeare gave the world the best of theatrics\")"
   ]
  },
  {
   "cell_type": "code",
   "execution_count": 8,
   "metadata": {},
   "outputs": [
    {
     "name": "stdout",
     "output_type": "stream",
     "text": [
      "Shakespeare gave the world the best of theatrics\n"
     ]
    }
   ],
   "source": [
    "s=\"Shakespeare gave the world the best of theatrics\"\n",
    "print(s)"
   ]
  },
  {
   "cell_type": "code",
   "execution_count": 4,
   "metadata": {},
   "outputs": [
    {
     "name": "stdout",
     "output_type": "stream",
     "text": [
      "Shakespeare gave the world the best of theatrics\n"
     ]
    }
   ],
   "source": [
    "s=\"Shakespeare gave the world the best of theatrics\"\n",
    "print(s)"
   ]
  },
  {
   "cell_type": "code",
   "execution_count": 9,
   "metadata": {},
   "outputs": [
    {
     "ename": "SyntaxError",
     "evalue": "EOL while scanning string literal (<ipython-input-9-881e8966be43>, line 1)",
     "output_type": "error",
     "traceback": [
      "\u001b[1;36m  File \u001b[1;32m\"<ipython-input-9-881e8966be43>\"\u001b[1;36m, line \u001b[1;32m1\u001b[0m\n\u001b[1;33m    s=\"William Shakespeare was an English poet,\u001b[0m\n\u001b[1;37m                                                ^\u001b[0m\n\u001b[1;31mSyntaxError\u001b[0m\u001b[1;31m:\u001b[0m EOL while scanning string literal\n"
     ]
    }
   ],
   "source": [
    "s=\"William Shakespeare was an English poet, \n",
    "playwright, and actor. He was born on 26 April 1564 in Stratford-upon-Avon.\n",
    "His father was a successful local businessman and his mother was the daughter of a landowner. \n",
    "Shakespeare is widely regarded as the greatest writer in the English language and the world's pre-eminent dramatist. \n",
    "He is often called England's national poet and nicknamed the Bard of Avon.\"\n",
    "print(s)"
   ]
  },
  {
   "cell_type": "code",
   "execution_count": 10,
   "metadata": {},
   "outputs": [
    {
     "name": "stdout",
     "output_type": "stream",
     "text": [
      "William Shakespeare was an English poet, \n",
      "playwright, and actor. He was born on 26 April 1564 in Stratford-upon-Avon.\n",
      "His father was a successful local businessman and his mother was the daughter of a landowner. \n",
      "Shakespeare is widely regarded as the greatest writer in the English language and the world's pre-eminent dramatist.\n",
      "He is often called England's national poet and nicknamed the Bard of Avon.\n"
     ]
    }
   ],
   "source": [
    "s='''William Shakespeare was an English poet, \n",
    "playwright, and actor. He was born on 26 April 1564 in Stratford-upon-Avon.\n",
    "His father was a successful local businessman and his mother was the daughter of a landowner. \n",
    "Shakespeare is widely regarded as the greatest writer in the English language and the world's pre-eminent dramatist.\n",
    "He is often called England's national poet and nicknamed the Bard of Avon.'''\n",
    "print(s)\n"
   ]
  },
  {
   "cell_type": "code",
   "execution_count": 11,
   "metadata": {},
   "outputs": [
    {
     "name": "stdout",
     "output_type": "stream",
     "text": [
      "Shakespeare didn't \t give the world the best of theatrics\n"
     ]
    }
   ],
   "source": [
    "s=\"Shakespeare didn't \\t give the world the best of theatrics\"\n",
    "print(s)"
   ]
  },
  {
   "cell_type": "code",
   "execution_count": 12,
   "metadata": {},
   "outputs": [
    {
     "name": "stdout",
     "output_type": "stream",
     "text": [
      "प्रसिद्ध चमकदार एवं सफ़ेद धातु जो आनुपातिक तौर पर बहुत वजनी होता है तथा साधारण गर्मी एवं सरदी में द्रव रूप में रहता है\n"
     ]
    }
   ],
   "source": [
    "s=\"प्रसिद्ध चमकदार एवं सफ़ेद धातु जो आनुपातिक तौर पर बहुत वजनी होता है तथा साधारण गर्मी एवं सरदी में द्रव रूप में रहता है\"\n",
    "print(s)"
   ]
  },
  {
   "cell_type": "code",
   "execution_count": 13,
   "metadata": {},
   "outputs": [
    {
     "name": "stdout",
     "output_type": "stream",
     "text": [
      "प्रसिद्ध चमकदार एवं सफ़ेद धातु जो आनुपातिक तौर पर बहुत वजनी होता है तथा साधारण गर्मी एवं सरदी में द्रव रूप में रहता है\n",
      "प्रसिद्ध चमकदार एवं सफ़ेद धातु जो आनुपातिक तौर पर बहुत वजनी होता है तथा साधारण गर्मी एवं सरदी में द्रव रूप में रहता है\n",
      "प्रसिद्ध चमकदार एवं सफ़ेद धातु जो आनुपातिक तौर पर बहुत वजनी होता है तथा साधारण गर्मी एवं सरदी में द्रव रूप में रहता है\n",
      "प्रसिद्ध चमकदार एवं सफ़ेद धातु जो आनुपातिक तौर पर बहुत वजनी होता है तथा साधारण गर्मी एवं सरदी में द्रव रूप में रहता है\n"
     ]
    }
   ],
   "source": [
    "s='''प्रसिद्ध चमकदार एवं सफ़ेद धातु जो आनुपातिक तौर पर बहुत वजनी होता है तथा साधारण गर्मी एवं सरदी में द्रव रूप में रहता है\n",
    "प्रसिद्ध चमकदार एवं सफ़ेद धातु जो आनुपातिक तौर पर बहुत वजनी होता है तथा साधारण गर्मी एवं सरदी में द्रव रूप में रहता है\n",
    "प्रसिद्ध चमकदार एवं सफ़ेद धातु जो आनुपातिक तौर पर बहुत वजनी होता है तथा साधारण गर्मी एवं सरदी में द्रव रूप में रहता है\n",
    "प्रसिद्ध चमकदार एवं सफ़ेद धातु जो आनुपातिक तौर पर बहुत वजनी होता है तथा साधारण गर्मी एवं सरदी में द्रव रूप में रहता है'''\n",
    "print(s)"
   ]
  },
  {
   "cell_type": "code",
   "execution_count": null,
   "metadata": {},
   "outputs": [],
   "source": []
  }
 ],
 "metadata": {
  "kernelspec": {
   "display_name": "Python 3",
   "language": "python",
   "name": "python3"
  },
  "language_info": {
   "codemirror_mode": {
    "name": "ipython",
    "version": 3
   },
   "file_extension": ".py",
   "mimetype": "text/x-python",
   "name": "python",
   "nbconvert_exporter": "python",
   "pygments_lexer": "ipython3",
   "version": "3.7.3"
  }
 },
 "nbformat": 4,
 "nbformat_minor": 4
}

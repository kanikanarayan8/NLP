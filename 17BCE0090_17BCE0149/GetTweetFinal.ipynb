{
 "cells": [
  {
   "cell_type": "code",
   "execution_count": null,
   "metadata": {},
   "outputs": [],
   "source": [
    "pip install GetOldTweets3"
   ]
  },
  {
   "cell_type": "code",
   "execution_count": 1,
   "metadata": {},
   "outputs": [
    {
     "name": "stdout",
     "output_type": "stream",
     "text": [
      "Searching...\n",
      "\n",
      "More 100 saved on file...\n",
      "\n",
      "Done. Output file generated \"tweets.csv\".\n"
     ]
    }
   ],
   "source": [
    "import GetOldTweets3 as got\n",
    "import sys,getopt,datetime,codecs\n",
    "#tweets are extracted based on certain criterias\n",
    "tweetCriteria = got.manager.TweetCriteria().setQuerySearch('bmw')\\\n",
    "                                           .setSince(\"2019-05-01\")\\\n",
    "                                           .setUntil(\"2020-03-03\")\\\n",
    "                                           .setNear(\"New York\")\\\n",
    "                                           .setMaxTweets(100)\n",
    "tweet = got.manager.TweetManager.getTweets(tweetCriteria)[0]\n",
    "#opening csv file to store tweets\n",
    "outputFileName = \"tweets.csv\"\n",
    "outputFile = codecs.open(outputFileName, \"w+\", \"utf-8\")\n",
    "\n",
    "print('Searching...\\n')\n",
    "#writing the tweets in csv file\n",
    "def receiveBuffer(tweets):\n",
    "    for t in tweets:\n",
    "        outputFile.write(t.text + \"\\n\")\n",
    "    outputFile.flush()\n",
    "    print('More %d saved on file...\\n' % len(tweets))\n",
    "\n",
    "got.manager.TweetManager.getTweets(tweetCriteria, receiveBuffer)\n",
    "\n",
    "outputFile.close()\n",
    "print('Done. Output file generated \"%s\".' % outputFileName)"
   ]
  },
  {
   "cell_type": "code",
   "execution_count": null,
   "metadata": {},
   "outputs": [],
   "source": []
  },
  {
   "cell_type": "code",
   "execution_count": null,
   "metadata": {},
   "outputs": [],
   "source": []
  }
 ],
 "metadata": {
  "kernelspec": {
   "display_name": "Python 3",
   "language": "python",
   "name": "python3"
  },
  "language_info": {
   "codemirror_mode": {
    "name": "ipython",
    "version": 3
   },
   "file_extension": ".py",
   "mimetype": "text/x-python",
   "name": "python",
   "nbconvert_exporter": "python",
   "pygments_lexer": "ipython3",
   "version": "3.7.3"
  }
 },
 "nbformat": 4,
 "nbformat_minor": 4
}

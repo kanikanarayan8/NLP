{
 "cells": [
  {
   "cell_type": "code",
   "execution_count": 2,
   "metadata": {},
   "outputs": [
    {
     "data": {
      "text/plain": [
       "['i',\n",
       " 'me',\n",
       " 'my',\n",
       " 'myself',\n",
       " 'we',\n",
       " 'our',\n",
       " 'ours',\n",
       " 'ourselves',\n",
       " 'you',\n",
       " \"you're\",\n",
       " \"you've\",\n",
       " \"you'll\",\n",
       " \"you'd\",\n",
       " 'your',\n",
       " 'yours',\n",
       " 'yourself',\n",
       " 'yourselves',\n",
       " 'he',\n",
       " 'him',\n",
       " 'his',\n",
       " 'himself',\n",
       " 'she',\n",
       " \"she's\",\n",
       " 'her',\n",
       " 'hers',\n",
       " 'herself',\n",
       " 'it',\n",
       " \"it's\",\n",
       " 'its',\n",
       " 'itself',\n",
       " 'they',\n",
       " 'them',\n",
       " 'their',\n",
       " 'theirs',\n",
       " 'themselves',\n",
       " 'what',\n",
       " 'which',\n",
       " 'who',\n",
       " 'whom',\n",
       " 'this',\n",
       " 'that',\n",
       " \"that'll\",\n",
       " 'these',\n",
       " 'those',\n",
       " 'am',\n",
       " 'is',\n",
       " 'are',\n",
       " 'was',\n",
       " 'were',\n",
       " 'be',\n",
       " 'been',\n",
       " 'being',\n",
       " 'have',\n",
       " 'has',\n",
       " 'had',\n",
       " 'having',\n",
       " 'do',\n",
       " 'does',\n",
       " 'did',\n",
       " 'doing',\n",
       " 'a',\n",
       " 'an',\n",
       " 'the',\n",
       " 'and',\n",
       " 'but',\n",
       " 'if',\n",
       " 'or',\n",
       " 'because',\n",
       " 'as',\n",
       " 'until',\n",
       " 'while',\n",
       " 'of',\n",
       " 'at',\n",
       " 'by',\n",
       " 'for',\n",
       " 'with',\n",
       " 'about',\n",
       " 'against',\n",
       " 'between',\n",
       " 'into',\n",
       " 'through',\n",
       " 'during',\n",
       " 'before',\n",
       " 'after',\n",
       " 'above',\n",
       " 'below',\n",
       " 'to',\n",
       " 'from',\n",
       " 'up',\n",
       " 'down',\n",
       " 'in',\n",
       " 'out',\n",
       " 'on',\n",
       " 'off',\n",
       " 'over',\n",
       " 'under',\n",
       " 'again',\n",
       " 'further',\n",
       " 'then',\n",
       " 'once',\n",
       " 'here',\n",
       " 'there',\n",
       " 'when',\n",
       " 'where',\n",
       " 'why',\n",
       " 'how',\n",
       " 'all',\n",
       " 'any',\n",
       " 'both',\n",
       " 'each',\n",
       " 'few',\n",
       " 'more',\n",
       " 'most',\n",
       " 'other',\n",
       " 'some',\n",
       " 'such',\n",
       " 'no',\n",
       " 'nor',\n",
       " 'not',\n",
       " 'only',\n",
       " 'own',\n",
       " 'same',\n",
       " 'so',\n",
       " 'than',\n",
       " 'too',\n",
       " 'very',\n",
       " 's',\n",
       " 't',\n",
       " 'can',\n",
       " 'will',\n",
       " 'just',\n",
       " 'don',\n",
       " \"don't\",\n",
       " 'should',\n",
       " \"should've\",\n",
       " 'now',\n",
       " 'd',\n",
       " 'll',\n",
       " 'm',\n",
       " 'o',\n",
       " 're',\n",
       " 've',\n",
       " 'y',\n",
       " 'ain',\n",
       " 'aren',\n",
       " \"aren't\",\n",
       " 'couldn',\n",
       " \"couldn't\",\n",
       " 'didn',\n",
       " \"didn't\",\n",
       " 'doesn',\n",
       " \"doesn't\",\n",
       " 'hadn',\n",
       " \"hadn't\",\n",
       " 'hasn',\n",
       " \"hasn't\",\n",
       " 'haven',\n",
       " \"haven't\",\n",
       " 'isn',\n",
       " \"isn't\",\n",
       " 'ma',\n",
       " 'mightn',\n",
       " \"mightn't\",\n",
       " 'mustn',\n",
       " \"mustn't\",\n",
       " 'needn',\n",
       " \"needn't\",\n",
       " 'shan',\n",
       " \"shan't\",\n",
       " 'shouldn',\n",
       " \"shouldn't\",\n",
       " 'wasn',\n",
       " \"wasn't\",\n",
       " 'weren',\n",
       " \"weren't\",\n",
       " 'won',\n",
       " \"won't\",\n",
       " 'wouldn',\n",
       " \"wouldn't\"]"
      ]
     },
     "execution_count": 2,
     "metadata": {},
     "output_type": "execute_result"
    }
   ],
   "source": [
    "#list of stopwords\n",
    "from nltk.corpus import stopwords\n",
    "stopwords.words(\"english\")"
   ]
  },
  {
   "cell_type": "code",
   "execution_count": 3,
   "metadata": {},
   "outputs": [
    {
     "name": "stdout",
     "output_type": "stream",
     "text": [
      "133737\n",
      "['This', 'is', 'a', 'sample', 'sentence', ',', 'showing', 'off', 'the', 'stop', 'words', 'filtration', '.']\n",
      "['This', 'sample', 'sentence', ',', 'showing', 'stop', 'words', 'filtration', '.']\n"
     ]
    }
   ],
   "source": [
    "import nltk\n",
    "entries=nltk.corpus.cmudict.entries()\n",
    "print(len(entries))\n",
    "\n",
    "#Removing stop words with NLTK\n",
    "from nltk.corpus import stopwords \n",
    "from nltk.tokenize import word_tokenize\n",
    "example_sent = \"This is a sample sentence, showing off the stop words filtration.\"\n",
    "  \n",
    "stop_words = set(stopwords.words('english')) \n",
    "  \n",
    "word_tokens = word_tokenize(example_sent) \n",
    "  \n",
    "filtered_sentence = [w for w in word_tokens if not w in stop_words] \n",
    "  \n",
    "filtered_sentence = [] \n",
    "  \n",
    "for w in word_tokens: \n",
    "    if w not in stop_words: \n",
    "        filtered_sentence.append(w) \n",
    "  \n",
    "print(word_tokens) \n",
    "print(filtered_sentence) "
   ]
  },
  {
   "cell_type": "code",
   "execution_count": 5,
   "metadata": {},
   "outputs": [
    {
     "name": "stdout",
     "output_type": "stream",
     "text": [
      "('belford', ['B', 'EH1', 'L', 'F', 'ER0', 'D'])\n",
      "('belfry', ['B', 'EH1', 'L', 'F', 'R', 'IY0'])\n",
      "('belgacom', ['B', 'EH1', 'L', 'G', 'AH0', 'K', 'AA0', 'M'])\n",
      "('belgacom', ['B', 'EH1', 'L', 'JH', 'AH0', 'K', 'AA0', 'M'])\n",
      "('belgard', ['B', 'EH0', 'L', 'G', 'AA1', 'R', 'D'])\n",
      "('belgarde', ['B', 'EH0', 'L', 'G', 'AA1', 'R', 'D', 'IY0'])\n",
      "('belge', ['B', 'EH1', 'L', 'JH', 'IY0'])\n",
      "('belger', ['B', 'EH1', 'L', 'G', 'ER0'])\n",
      "('belgian', ['B', 'EH1', 'L', 'JH', 'AH0', 'N'])\n",
      "('belgians', ['B', 'EH1', 'L', 'JH', 'AH0', 'N', 'Z'])\n",
      "('belgique', ['B', 'EH0', 'L', 'ZH', 'IY1', 'K'])\n",
      "(\"belgique's\", ['B', 'EH0', 'L', 'JH', 'IY1', 'K', 'S'])\n",
      "('belgium', ['B', 'EH1', 'L', 'JH', 'AH0', 'M'])\n",
      "(\"belgium's\", ['B', 'EH1', 'L', 'JH', 'AH0', 'M', 'Z'])\n",
      "('belgo', ['B', 'EH1', 'L', 'G', 'OW2'])\n",
      "('belgrade', ['B', 'EH1', 'L', 'G', 'R', 'EY0', 'D'])\n",
      "('belgrade', ['B', 'EH1', 'L', 'G', 'R', 'AA2', 'D'])\n",
      "(\"belgrade's\", ['B', 'EH1', 'L', 'G', 'R', 'EY0', 'D', 'Z'])\n",
      "(\"belgrade's\", ['B', 'EH1', 'L', 'G', 'R', 'AA2', 'D', 'Z'])\n",
      "('belgrave', ['B', 'EH1', 'L', 'G', 'R', 'EY2', 'V'])\n",
      "('beli', ['B', 'EH1', 'L', 'IY0'])\n",
      "('belich', ['B', 'EH1', 'L', 'IH0', 'K'])\n",
      "('belie', ['B', 'IH0', 'L', 'AY1'])\n",
      "('belied', ['B', 'IH0', 'L', 'AY1', 'D'])\n",
      "('belief', ['B', 'IH0', 'L', 'IY1', 'F'])\n"
     ]
    }
   ],
   "source": [
    "for entry in entries[10000:10025]:\n",
    "    print(entry)"
   ]
  },
  {
   "cell_type": "code",
   "execution_count": 9,
   "metadata": {},
   "outputs": [
    {
     "data": {
      "text/plain": [
       "[Synset('car.n.01')]"
      ]
     },
     "execution_count": 9,
     "metadata": {},
     "output_type": "execute_result"
    }
   ],
   "source": [
    "from nltk.corpus import wordnet as wn\n",
    "wn.synsets('motorcar')"
   ]
  },
  {
   "cell_type": "code",
   "execution_count": 17,
   "metadata": {},
   "outputs": [
    {
     "data": {
      "text/plain": [
       "['car', 'auto', 'automobile', 'machine', 'motorcar']"
      ]
     },
     "execution_count": 17,
     "metadata": {},
     "output_type": "execute_result"
    }
   ],
   "source": [
    "wn.synset('car.n.01').lemma_names()"
   ]
  },
  {
   "cell_type": "code",
   "execution_count": 3,
   "metadata": {},
   "outputs": [],
   "source": [
    "import nltk\n",
    "texts = [\"\"\"Wondering if I should quit work and become a monk who secretly writes serial murder thriller novels.\n",
    "Going to bed.\n",
    "gary coleman sighting by Zoom. The rumors were true\n",
    "Festmob.\"\"\"]"
   ]
  },
  {
   "cell_type": "code",
   "execution_count": 4,
   "metadata": {},
   "outputs": [
    {
     "name": "stdout",
     "output_type": "stream",
     "text": [
      "[('Wondering', 'VBG'), ('if', 'IN'), ('I', 'PRP'), ('should', 'MD'), ('quit', 'VB'), ('work', 'NN'), ('and', 'CC'), ('become', 'VB'), ('a', 'DT'), ('monk', 'NN'), ('who', 'WP'), ('secretly', 'RB'), ('writes', 'VBZ'), ('serial', 'JJ'), ('murder', 'NN'), ('thriller', 'NN'), ('novels', 'NNS'), ('.', '.')]\n",
      "[('Going', 'VBG'), ('to', 'TO'), ('bed', 'VB'), ('.', '.')]\n",
      "[('gary', 'JJ'), ('coleman', 'NN'), ('sighting', 'NN'), ('by', 'IN'), ('Zoom', 'NNP'), ('.', '.')]\n",
      "[('The', 'DT'), ('rumors', 'NNS'), ('were', 'VBD'), ('true', 'JJ'), ('Festmob', 'NNP'), ('.', '.')]\n"
     ]
    }
   ],
   "source": [
    "for text in texts:\n",
    "    sentences=nltk.sent_tokenize(text)\n",
    "    for sentence in sentences:\n",
    "        words=nltk.word_tokenize(sentence)\n",
    "        tagged_words=nltk.pos_tag(words)\n",
    "        print(tagged_words)"
   ]
  },
  {
   "cell_type": "code",
   "execution_count": 4,
   "metadata": {},
   "outputs": [
    {
     "name": "stdout",
     "output_type": "stream",
     "text": [
      "{'dependable', 'sound', 'unspoilt', 'unspoiled', 'undecomposed', 'well', 'proficient', 'honest', 'adept', 'trade_good', 'effective', 'full', 'in_force', 'near', 'just', 'in_effect', 'beneficial', 'skilful', 'goodness', 'practiced', 'ripe', 'dear', 'upright', 'right', 'salutary', 'good', 'skillful', 'honorable', 'safe', 'expert', 'thoroughly', 'secure', 'commodity', 'respectable', 'soundly', 'serious', 'estimable'}\n",
      "{'ill', 'bad', 'badness', 'evilness', 'evil'}\n"
     ]
    }
   ],
   "source": [
    "#DISCERNING ANTONYMS AND SYNONYMS TO A WORD\n",
    "\n",
    "import nltk \n",
    "from nltk.corpus import wordnet \n",
    "synonyms = [] \n",
    "antonyms = [] \n",
    "  \n",
    "for syn in wordnet.synsets(\"good\"): \n",
    "    for l in syn.lemmas(): \n",
    "        synonyms.append(l.name()) \n",
    "        if l.antonyms(): \n",
    "            antonyms.append(l.antonyms()[0].name()) \n",
    "  \n",
    "print(set(synonyms)) \n",
    "print(set(antonyms)) "
   ]
  },
  {
   "cell_type": "code",
   "execution_count": 25,
   "metadata": {},
   "outputs": [
    {
     "name": "stdout",
     "output_type": "stream",
     "text": [
      "can\n",
      "could\n",
      "may\n",
      "might\n",
      "must\n",
      "will\n"
     ]
    }
   ],
   "source": [
    "#COMPARE THE SIMILARITY INDEX OF ANY TWO WORDS\n",
    "\n",
    "import nltk \n",
    "from nltk.corpus import wordnet \n",
    "# Let's compare the noun of \"ship\" and \"boat:\" \n",
    "  \n",
    "w1 = wordnet.synset('run.v.01') # v here denotes the tag verb \n",
    "w2 = wordnet.synset('sprint.v.01') \n",
    "print(w1.wup_similarity(w2)) "
   ]
  },
  {
   "cell_type": "code",
   "execution_count": 5,
   "metadata": {},
   "outputs": [
    {
     "data": {
      "text/plain": [
       "['in', 'support', 'of', ':)', '#worldwar3']"
      ]
     },
     "execution_count": 5,
     "metadata": {},
     "output_type": "execute_result"
    }
   ],
   "source": [
    "#TWEET TOKENIZER\n",
    "import nltk\n",
    "from nltk.tokenize import TweetTokenizer\n",
    "text=' in support of :) #worldwar3'\n",
    "twtkn = TweetTokenizer()\n",
    "twtkn.tokenize(text)"
   ]
  },
  {
   "cell_type": "code",
   "execution_count": 7,
   "metadata": {},
   "outputs": [
    {
     "name": "stdout",
     "output_type": "stream",
     "text": [
      "[':-)', '<', '>', '(', ')', '{', '}', '[', ']', ':-p']\n"
     ]
    }
   ],
   "source": [
    "from nltk.tokenize import TweetTokenizer \n",
    "  \n",
    "# Create a reference variable for Class TweetTokenizer \n",
    "tk = TweetTokenizer() \n",
    "  \n",
    "# Create a string input \n",
    "EMOJI = \":-) <> () {} [] :-p\"\n",
    "  \n",
    "# Use tokenize method \n",
    "emoticons = tk.tokenize(EMOJI) \n",
    "  \n",
    "print(emoticons) "
   ]
  },
  {
   "cell_type": "code",
   "execution_count": 14,
   "metadata": {},
   "outputs": [
    {
     "name": "stdout",
     "output_type": "stream",
     "text": [
      "['Anti', 'di', 'ses', 'ta', 'blis', 'hmen', 'ta', 'ria', 'nism']\n"
     ]
    }
   ],
   "source": [
    "# extract the syllables from stream of words or sentences\n",
    "\n",
    "# import SyllableTokenizer() method from nltk \n",
    "from nltk import word_tokenize \n",
    "from nltk.tokenize import SyllableTokenizer\n",
    "# Create a reference variable for Class word_tokenize \n",
    "tk = SyllableTokenizer() \n",
    "     \n",
    "# Create a string input \n",
    "g = \"Antidisestablishmentarianism\"\n",
    "     \n",
    "# Use tokenize method \n",
    "k = tk.tokenize(g) \n",
    "     \n",
    "print(k) "
   ]
  },
  {
   "cell_type": "code",
   "execution_count": 12,
   "metadata": {},
   "outputs": [
    {
     "data": {
      "text/plain": [
       "[['This'],\n",
       " ['is'],\n",
       " ['a'],\n",
       " ['foo', 'bar', '-', 'li', 'ke'],\n",
       " ['sen', 'ten', 'ce'],\n",
       " ['.']]"
      ]
     },
     "execution_count": 12,
     "metadata": {},
     "output_type": "execute_result"
    }
   ],
   "source": [
    "#Syllabifies words\n",
    "from nltk.tokenize import SyllableTokenizer\n",
    ">>> from nltk import word_tokenize\n",
    ">>> SSP = SyllableTokenizer()\n",
    ">>> SSP.tokenize('justification')\n",
    "['jus', 'ti', 'fi', 'ca', 'tion']\n",
    ">>> text = \"This is a foobar-like sentence.\"\n",
    ">>> [SSP.tokenize(token) for token in word_tokenize(text)]\n",
    "[['This'], ['is'], ['a'], ['foo', 'bar', '-', 'li', 'ke'], ['sen', 'ten', 'ce'], ['.']]"
   ]
  },
  {
   "cell_type": "code",
   "execution_count": 15,
   "metadata": {},
   "outputs": [
    {
     "name": "stdout",
     "output_type": "stream",
     "text": [
      "['Ga', 'me', 'top', 'hy', 'te']\n"
     ]
    }
   ],
   "source": [
    "# extract the syllables from stream of words or sentences\n",
    "\n",
    "# import SyllableTokenizer() method from nltk \n",
    "from nltk.tokenize import word_tokenize \n",
    "from nltk.tokenize import SyllableTokenizer     \n",
    "# Create a reference variable for Class word_tokenize \n",
    "tk = SyllableTokenizer() \n",
    "     \n",
    "# Create a string input \n",
    "gfg = \"Gametophyte\"\n",
    "     \n",
    "# Use tokenize method \n",
    "geek = tk.tokenize(gfg) \n",
    "     \n",
    "print(geek) "
   ]
  },
  {
   "cell_type": "code",
   "execution_count": 16,
   "metadata": {},
   "outputs": [
    {
     "name": "stdout",
     "output_type": "stream",
     "text": [
      "can\n",
      "could\n",
      "may\n",
      "might\n",
      "must\n",
      "will\n"
     ]
    }
   ],
   "source": [
    "from nltk.corpus import brown\n",
    "news_text=brown.words(categories='news')\n",
    "fdist=nltk.FreqDist(w.lower() for w in news_text)\n",
    "modals= ['can','could','may','might','must','will']\n",
    "for m in modals:\n",
    "    print(m)"
   ]
  }
 ],
 "metadata": {
  "kernelspec": {
   "display_name": "Python 3",
   "language": "python",
   "name": "python3"
  },
  "language_info": {
   "codemirror_mode": {
    "name": "ipython",
    "version": 3
   },
   "file_extension": ".py",
   "mimetype": "text/x-python",
   "name": "python",
   "nbconvert_exporter": "python",
   "pygments_lexer": "ipython3",
   "version": "3.7.3"
  }
 },
 "nbformat": 4,
 "nbformat_minor": 4
}
